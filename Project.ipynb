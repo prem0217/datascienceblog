{
 "cells": [
  {
   "cell_type": "code",
   "execution_count": null,
   "metadata": {},
   "outputs": [],
   "source": [
    "'''\n",
    "Buisness Understanding\n",
    "\n",
    "The three questions being answered is as follows\n",
    "1. On a per month basis, is there a direct correlation between number of listings and the average price for \n",
    "listings in that month?\n",
    "\n",
    "    Without testing I would assume there are more listings in popular vacation months, and that the price would go up due to\n",
    "    the fact that it is popular. By using this information you can then plan to have deals or something of the sort for both\n",
    "    users and hosts to increase profits\n",
    "    \n",
    "2. Is the difference between superhost and regular host apparent in their ratings? \n",
    "    \n",
    "    There should be incentives to be a superhost and there should be a reason why a user would rather go to a superhost's\n",
    "    property. Without a significant difference I feel there is little value in the title so I wanted to compare\n",
    "    \n",
    "3. What correlation is there between average zipcode prices and number of listings in a zipcode?\n",
    "\n",
    "    All users want to have proper housing and using price of property is a general baseline for such information. The amount of\n",
    "    listings is useful to show that proper neighborhoods are actually being put up for use. Another factor to consider is that\n",
    "    the correlation betwen the price and number should be a bell curve as you generally want affordable but not cheap housing\n",
    "\n",
    "'''"
   ]
  },
  {
   "cell_type": "code",
   "execution_count": 1,
   "metadata": {},
   "outputs": [],
   "source": [
    "#import necessary Libraries\n",
    "\n",
    "import pandas as pd\n",
    "import numpy as np\n",
    "import matplotlib.pyplot as plt\n",
    "%matplotlib inline\n",
    "\n"
   ]
  },
  {
   "cell_type": "code",
   "execution_count": 6,
   "metadata": {},
   "outputs": [],
   "source": [
    "'''\n",
    "Description: Reads CSV files into Dataframes to manipulate data\n",
    "\n",
    "Input: nothing\n",
    "return:\n",
    "    Calendar Pandas dataframe\n",
    "    listings Pandas dataframe\n",
    "'''\n",
    "def load_data():\n",
    "    calendar = pd.read_csv('./calendar.csv')\n",
    "    listings = pd.read_csv('./listings.csv')\n",
    "    return calendar, listings"
   ]
  },
  {
   "cell_type": "code",
   "execution_count": 9,
   "metadata": {},
   "outputs": [],
   "source": [
    "'''\n",
    "Description: takes a Pandas Series and converts all values in series from string to Float\n",
    "\n",
    "Input: Pandas Series of strings\n",
    "Output: Pandas Series of Floats\n",
    "'''\n",
    "\n",
    "def to_float(x):\n",
    "    return x.str.replace(r'[^0-9.]','').astype(float)"
   ]
  },
  {
   "cell_type": "code",
   "execution_count": 11,
   "metadata": {},
   "outputs": [],
   "source": [
    "'''\n",
    "Data Understanding\n",
    "'''\n",
    "calendar, listings = load_data()"
   ]
  },
  {
   "cell_type": "code",
   "execution_count": 23,
   "metadata": {},
   "outputs": [
    {
     "data": {
      "text/plain": [
       "(3818, 92)"
      ]
     },
     "execution_count": 23,
     "metadata": {},
     "output_type": "execute_result"
    }
   ],
   "source": [
    "listings.shape"
   ]
  },
  {
   "cell_type": "code",
   "execution_count": 24,
   "metadata": {},
   "outputs": [
    {
     "data": {
      "text/plain": [
       "(1393570, 4)"
      ]
     },
     "execution_count": 24,
     "metadata": {},
     "output_type": "execute_result"
    }
   ],
   "source": [
    "calendar.shape"
   ]
  },
  {
   "cell_type": "code",
   "execution_count": 18,
   "metadata": {},
   "outputs": [
    {
     "data": {
      "text/plain": [
       "(94.53926206244087, 6.606083179599021)"
      ]
     },
     "execution_count": 18,
     "metadata": {},
     "output_type": "execute_result"
    }
   ],
   "source": [
    "mean = listings['review_scores_rating'].mean()\n",
    "std = listings['review_scores_rating'].std()\n",
    "(mean, std)"
   ]
  },
  {
   "cell_type": "code",
   "execution_count": 20,
   "metadata": {},
   "outputs": [
    {
     "data": {
      "text/plain": [
       "(854.6185567010309, 671.4048927947491)"
      ]
     },
     "execution_count": 20,
     "metadata": {},
     "output_type": "execute_result"
    }
   ],
   "source": [
    "mean = listings['square_feet'].mean()\n",
    "std = listings['square_feet'].std()\n",
    "(mean,std)"
   ]
  },
  {
   "cell_type": "code",
   "execution_count": 25,
   "metadata": {},
   "outputs": [
    {
     "data": {
      "text/plain": [
       "127.97616553169199"
      ]
     },
     "execution_count": 25,
     "metadata": {},
     "output_type": "execute_result"
    }
   ],
   "source": [
    "listings['price'] = to_float(listings['price'])\n",
    "listings['price'].mean()"
   ]
  },
  {
   "cell_type": "code",
   "execution_count": null,
   "metadata": {},
   "outputs": [],
   "source": [
    "'''\n",
    "Data Prep\n",
    "\n",
    "In general my approach to data prep per solution involved selecting the columns required to solve the questions at hand.\n",
    "Next, if there were empty rows my approach was generally just to remove the rows from the calculations. As I was generally\n",
    "looking to find the mean of the row and use that statistic for my conclusion, immuting the rows with the mean would \n",
    "be influencing the mean value. \n",
    "\n",
    "Price Values were generally given as strings due to the $ in the price value. To resolve this I extracted the price value\n",
    "from the string and then converted the value to a float as opposed to a Int to prevent unneeded rounding.\n",
    "    \n",
    "'''"
   ]
  },
  {
   "cell_type": "code",
   "execution_count": 10,
   "metadata": {},
   "outputs": [
    {
     "data": {
      "text/html": [
       "<div>\n",
       "<style scoped>\n",
       "    .dataframe tbody tr th:only-of-type {\n",
       "        vertical-align: middle;\n",
       "    }\n",
       "\n",
       "    .dataframe tbody tr th {\n",
       "        vertical-align: top;\n",
       "    }\n",
       "\n",
       "    .dataframe thead th {\n",
       "        text-align: right;\n",
       "    }\n",
       "</style>\n",
       "<table border=\"1\" class=\"dataframe\">\n",
       "  <thead>\n",
       "    <tr style=\"text-align: right;\">\n",
       "      <th></th>\n",
       "      <th>price</th>\n",
       "      <th>total listings</th>\n",
       "    </tr>\n",
       "    <tr>\n",
       "      <th>month</th>\n",
       "      <th></th>\n",
       "      <th></th>\n",
       "    </tr>\n",
       "  </thead>\n",
       "  <tbody>\n",
       "    <tr>\n",
       "      <th>Jan</th>\n",
       "      <td>122.912176</td>\n",
       "      <td>64937</td>\n",
       "    </tr>\n",
       "    <tr>\n",
       "      <th>Feb</th>\n",
       "      <td>124.293927</td>\n",
       "      <td>73321</td>\n",
       "    </tr>\n",
       "    <tr>\n",
       "      <th>Jul</th>\n",
       "      <td>152.094150</td>\n",
       "      <td>74222</td>\n",
       "    </tr>\n",
       "    <tr>\n",
       "      <th>Apr</th>\n",
       "      <td>135.097005</td>\n",
       "      <td>76037</td>\n",
       "    </tr>\n",
       "    <tr>\n",
       "      <th>Aug</th>\n",
       "      <td>150.656594</td>\n",
       "      <td>76347</td>\n",
       "    </tr>\n",
       "    <tr>\n",
       "      <th>Jun</th>\n",
       "      <td>147.473137</td>\n",
       "      <td>77244</td>\n",
       "    </tr>\n",
       "    <tr>\n",
       "      <th>Sep</th>\n",
       "      <td>143.255949</td>\n",
       "      <td>77246</td>\n",
       "    </tr>\n",
       "    <tr>\n",
       "      <th>May</th>\n",
       "      <td>139.538183</td>\n",
       "      <td>79971</td>\n",
       "    </tr>\n",
       "    <tr>\n",
       "      <th>Nov</th>\n",
       "      <td>135.688738</td>\n",
       "      <td>81780</td>\n",
       "    </tr>\n",
       "    <tr>\n",
       "      <th>Oct</th>\n",
       "      <td>137.031939</td>\n",
       "      <td>82438</td>\n",
       "    </tr>\n",
       "    <tr>\n",
       "      <th>Mar</th>\n",
       "      <td>128.644488</td>\n",
       "      <td>83938</td>\n",
       "    </tr>\n",
       "    <tr>\n",
       "      <th>Dec</th>\n",
       "      <td>137.251835</td>\n",
       "      <td>87061</td>\n",
       "    </tr>\n",
       "  </tbody>\n",
       "</table>\n",
       "</div>"
      ],
      "text/plain": [
       "            price  total listings\n",
       "month                            \n",
       "Jan    122.912176           64937\n",
       "Feb    124.293927           73321\n",
       "Jul    152.094150           74222\n",
       "Apr    135.097005           76037\n",
       "Aug    150.656594           76347\n",
       "Jun    147.473137           77244\n",
       "Sep    143.255949           77246\n",
       "May    139.538183           79971\n",
       "Nov    135.688738           81780\n",
       "Oct    137.031939           82438\n",
       "Mar    128.644488           83938\n",
       "Dec    137.251835           87061"
      ]
     },
     "execution_count": 10,
     "metadata": {},
     "output_type": "execute_result"
    }
   ],
   "source": [
    "'''\n",
    "On a per month basis, is there a direct correlation between number of listings and the average price for \n",
    "listings in that month?\n",
    "\n",
    "'''\n",
    "\n",
    "def question_one():\n",
    "    calendar,listings = load_data()\n",
    "\n",
    "    #drop entires where availble is false as there is no price if listing is not available\n",
    "    calendar = calendar[calendar.available != 'f']\n",
    "    calendar = calendar.drop(['available'], axis = 1)\n",
    "\n",
    "    #retrieve the month only from the date\n",
    "    calendar['date'] = calendar['date'].str[5:7]\n",
    "    #remove characters from price strings and convert to a float to preform calulations\n",
    "    calendar['price'] = to_float(calendar['price'])\n",
    "\n",
    "    #Average price of listing per month\n",
    "    q1 = calendar.groupby('date').mean().drop(['listing_id'],axis = 1)\n",
    "    \n",
    "    #Total listing amounts per month\n",
    "    monthlyCounts = calendar['date'].value_counts()\n",
    "    q1['total listings'] = monthlyCounts\n",
    "    \n",
    "    #convert date numbers to Month names for readability\n",
    "    index = ['Jan', 'Feb', 'Mar', 'Apr', 'May', 'Jun', 'Jul', 'Aug', 'Sep', 'Oct', 'Nov', 'Dec']\n",
    "    q1.reset_index()\n",
    "    q1['date'] = index\n",
    "    \n",
    "    #rename columns and sort from least popular month to most popular month\n",
    "    q1.columns = ['price', 'total listings', 'month']\n",
    "    q1 = q1.set_index('month').sort_values(by = ['total listings'])\n",
    "    return q1\n",
    "question_one()"
   ]
  },
  {
   "cell_type": "code",
   "execution_count": 3,
   "metadata": {
    "scrolled": true
   },
   "outputs": [
    {
     "data": {
      "text/plain": [
       "Superhost    97.395473\n",
       "Host         93.652893\n",
       "dtype: float64"
      ]
     },
     "execution_count": 3,
     "metadata": {},
     "output_type": "execute_result"
    }
   ],
   "source": [
    "'''\n",
    "Is the difference between superhost and regular host apparent in their ratings? \n",
    "'''\n",
    "\n",
    "def question_two():\n",
    "    calendar,listings = load_data()\n",
    "\n",
    "    \n",
    "    #relevant data includes whether they are a superhost and their ratings.\n",
    "    #Dropping rows as immuting data for reviews would remove the value of the reviews, as there are many factors that come from each review score.\n",
    "    listings = listings[['host_is_superhost','review_scores_rating']].dropna() #drop about 600 rows with no score.\n",
    "    \n",
    "    #retrieve average for Superhosts\n",
    "    sh = listings.loc[listings['host_is_superhost'] == 't']\n",
    "    shmean = sh['review_scores_rating'].mean()\n",
    "    \n",
    "    #retrieve average for normal hosts\n",
    "    user = listings.loc[listings['host_is_superhost'] == 'f']\n",
    "    usermean = user['review_scores_rating'].mean()\n",
    "    \n",
    "    #create series for readability\n",
    "    q2 = pd.Series(data = [shmean, usermean], index = ['Superhost','Host'])\n",
    "    return q2\n",
    "question_two()"
   ]
  },
  {
   "cell_type": "code",
   "execution_count": 5,
   "metadata": {},
   "outputs": [
    {
     "data": {
      "image/png": "[encoded data removed]",
      "text/plain": [
       "<Figure size 432x288 with 1 Axes>"
      ]
     },
     "metadata": {
      "needs_background": "light"
     },
     "output_type": "display_data"
    },
    {
     "data": {
      "text/plain": [
       "98122    421\n",
       "98103    394\n",
       "98102    339\n",
       "98105    225\n",
       "98109    202\n",
       "98101    201\n",
       "98144    200\n",
       "98121    196\n",
       "98107    180\n",
       "98115    178\n",
       "98112    167\n",
       "98117    164\n",
       "98118    154\n",
       "98119    143\n",
       "98116    112\n",
       "98104     95\n",
       "98125     71\n",
       "98199     66\n",
       "98126     63\n",
       "98106     58\n",
       "98108     56\n",
       "98133     46\n",
       "98136     44\n",
       "98177     19\n",
       "98178      7\n",
       "98134      5\n",
       "98146      5\n",
       "Name: zipcode, dtype: int64"
      ]
     },
     "execution_count": 5,
     "metadata": {},
     "output_type": "execute_result"
    }
   ],
   "source": [
    "'''\n",
    "What correlation is there between average zipcode prices and number of listings in a zipcode?\n",
    "'''\n",
    "\n",
    "def question_three():\n",
    "    calendar,listings = load_data()\n",
    "\n",
    "    #took into account price only as there weekly and monthly prices were determined in an inconsistent fashion. Some gave discounts while others charged more for a weekly fee\n",
    "    #Dropped rows without a price as immuting values when comparing average prices would devalue the comparison. \n",
    "    listings = listings[['zipcode','price']].dropna()\n",
    "    listings['zipcode'] = listings['zipcode'].str.replace('99\\n98122','98122', regex = False) #corrected one line to show accurate zipcode\n",
    "    listings['zipcode'] = listings['zipcode'].str.replace('99\\r\\n98122','98122', regex = False)\n",
    "    \n",
    "    #convert price to int to preform mean calculation\n",
    "    listings['price'] = to_float(listings['price'])\n",
    "    \n",
    "    #average mean per zipcode\n",
    "    q3 = listings.groupby('zipcode').mean()\n",
    "    \n",
    "    #create plot\n",
    "    plt.bar(q3.index, q3['price'])\n",
    "    plt.xticks(q3.index, rotation = 'vertical')\n",
    "    plt.ylabel('Price')\n",
    "    plt.title('Average Airbnb Price per Zipcode')\n",
    "    \n",
    "    plt.show()\n",
    "    \n",
    "    #return number of listings per zipcode for comparison\n",
    "    return listings['zipcode'].value_counts()\n",
    "question_three()\n"
   ]
  },
  {
   "cell_type": "code",
   "execution_count": null,
   "metadata": {},
   "outputs": [],
   "source": [
    "'''\n",
    "Conclusion\n",
    "\n",
    "A notable conclusion I have found from my work is that there are not nearly as many correlations as I originally expected.\n",
    "From many of my questions, I expected there to be a clear relationship between the compared values, whether that be if the host\n",
    "is a super host, or a correlation between price and the other variable in question. All values seem to be fairly consistent\n",
    "throughout the year which shows both small variance in when other people should look into travels to WA as well as showing that\n",
    "worries regarding host / housing quality are not reasonable for the most part. \n",
    "'''"
   ]
  },
  {
   "cell_type": "markdown",
   "metadata": {},
   "source": [
    "### "
   ]
  }
 ],
 "metadata": {
  "kernelspec": {
   "display_name": "Python 3",
   "language": "python",
   "name": "python3"
  },
  "language_info": {
   "codemirror_mode": {
    "name": "ipython",
    "version": 3
   },
   "file_extension": ".py",
   "mimetype": "text/x-python",
   "name": "python",
   "nbconvert_exporter": "python",
   "pygments_lexer": "ipython3",
   "version": "3.7.4"
  }
 },
 "nbformat": 4,
 "nbformat_minor": 2
}
